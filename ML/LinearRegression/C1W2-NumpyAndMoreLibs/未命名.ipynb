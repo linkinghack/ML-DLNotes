{
 "cells": [
  {
   "cell_type": "code",
   "execution_count": 1,
   "id": "ee77aba9-d278-4d14-9f20-633488cc0232",
   "metadata": {
    "tags": []
   },
   "outputs": [],
   "source": [
    "import numpy as np"
   ]
  },
  {
   "cell_type": "code",
   "execution_count": 2,
   "id": "bc40e2e9-7eda-4e4d-b776-d350cfb89870",
   "metadata": {
    "tags": []
   },
   "outputs": [],
   "source": [
    "m1 = np.array([[1,2,3],[4,5,6],[7,8,9]])"
   ]
  },
  {
   "cell_type": "code",
   "execution_count": 3,
   "id": "dff3cea6-2308-462b-8f84-a3aeb73cd2dc",
   "metadata": {
    "tags": []
   },
   "outputs": [],
   "source": [
    "ar1 = np.array([1,3,5])"
   ]
  },
  {
   "cell_type": "code",
   "execution_count": 4,
   "id": "e20e0e69-d231-4d9b-a4b6-b58be7eac1b8",
   "metadata": {
    "tags": []
   },
   "outputs": [
    {
     "name": "stdout",
     "output_type": "stream",
     "text": [
      "[[1 2 3]\n",
      " [4 5 6]\n",
      " [7 8 9]]\n",
      "[1 3 5]\n"
     ]
    }
   ],
   "source": [
    "print(m1)\n",
    "print(ar1)"
   ]
  },
  {
   "cell_type": "code",
   "execution_count": 5,
   "id": "5e2d1121-f202-4d8c-a0f0-dc06fe47a351",
   "metadata": {
    "tags": []
   },
   "outputs": [
    {
     "name": "stdout",
     "output_type": "stream",
     "text": [
      "[22 49 76]\n"
     ]
    }
   ],
   "source": [
    "print(m1 @ ar1)"
   ]
  },
  {
   "cell_type": "code",
   "execution_count": 6,
   "id": "6d099a4a-8638-460e-b4fe-f30cbd3c2b57",
   "metadata": {
    "tags": []
   },
   "outputs": [
    {
     "name": "stdout",
     "output_type": "stream",
     "text": [
      "[[1 4 7]\n",
      " [2 5 8]\n",
      " [3 6 9]]\n"
     ]
    }
   ],
   "source": [
    "print(m1.T)"
   ]
  },
  {
   "cell_type": "code",
   "execution_count": 8,
   "id": "75022da5-505a-4c5e-834f-06dc93fd734b",
   "metadata": {
    "tags": []
   },
   "outputs": [
    {
     "name": "stdout",
     "output_type": "stream",
     "text": [
      "<class 'numpy.ndarray'>\n"
     ]
    }
   ],
   "source": [
    "print(type(m1))"
   ]
  },
  {
   "cell_type": "code",
   "execution_count": null,
   "id": "bdcc9794-0874-4727-b05f-b2fa197992b9",
   "metadata": {},
   "outputs": [],
   "source": []
  }
 ],
 "metadata": {
  "kernelspec": {
   "display_name": "Python 3 (ipykernel)",
   "language": "python",
   "name": "python3"
  },
  "language_info": {
   "codemirror_mode": {
    "name": "ipython",
    "version": 3
   },
   "file_extension": ".py",
   "mimetype": "text/x-python",
   "name": "python",
   "nbconvert_exporter": "python",
   "pygments_lexer": "ipython3",
   "version": "3.10.10"
  }
 },
 "nbformat": 4,
 "nbformat_minor": 5
}
